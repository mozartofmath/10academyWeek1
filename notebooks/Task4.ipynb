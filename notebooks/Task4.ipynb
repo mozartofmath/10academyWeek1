{
 "cells": [
  {
   "cell_type": "code",
   "execution_count": 3,
   "metadata": {},
   "outputs": [],
   "source": [
    "import pandas as pd\n",
    "import numpy as np\n",
    "import seaborn as sns\n",
    "import matplotlib.pyplot as plt"
   ]
  },
  {
   "cell_type": "code",
   "execution_count": 12,
   "metadata": {},
   "outputs": [
    {
     "data": {
      "text/html": [
       "<div>\n",
       "<style scoped>\n",
       "    .dataframe tbody tr th:only-of-type {\n",
       "        vertical-align: middle;\n",
       "    }\n",
       "\n",
       "    .dataframe tbody tr th {\n",
       "        vertical-align: top;\n",
       "    }\n",
       "\n",
       "    .dataframe thead th {\n",
       "        text-align: right;\n",
       "    }\n",
       "</style>\n",
       "<table border=\"1\" class=\"dataframe\">\n",
       "  <thead>\n",
       "    <tr style=\"text-align: right;\">\n",
       "      <th></th>\n",
       "      <th>MSISDN/Number</th>\n",
       "      <th>Bearer Id</th>\n",
       "      <th>Dur. (ms)</th>\n",
       "      <th>Total Data</th>\n",
       "      <th>cluster</th>\n",
       "    </tr>\n",
       "  </thead>\n",
       "  <tbody>\n",
       "    <tr>\n",
       "      <th>3735</th>\n",
       "      <td>33610670203</td>\n",
       "      <td>2</td>\n",
       "      <td>49514.0</td>\n",
       "      <td>1.040557e+09</td>\n",
       "      <td>0</td>\n",
       "    </tr>\n",
       "    <tr>\n",
       "      <th>64111</th>\n",
       "      <td>33666914415</td>\n",
       "      <td>1</td>\n",
       "      <td>86399.0</td>\n",
       "      <td>7.043859e+08</td>\n",
       "      <td>1</td>\n",
       "    </tr>\n",
       "    <tr>\n",
       "      <th>53086</th>\n",
       "      <td>33663616195</td>\n",
       "      <td>1</td>\n",
       "      <td>106875.0</td>\n",
       "      <td>2.004201e+08</td>\n",
       "      <td>1</td>\n",
       "    </tr>\n",
       "    <tr>\n",
       "      <th>12716</th>\n",
       "      <td>33625119623</td>\n",
       "      <td>1</td>\n",
       "      <td>178731.0</td>\n",
       "      <td>6.391717e+08</td>\n",
       "      <td>1</td>\n",
       "    </tr>\n",
       "    <tr>\n",
       "      <th>47165</th>\n",
       "      <td>33662164045</td>\n",
       "      <td>1</td>\n",
       "      <td>86399.0</td>\n",
       "      <td>3.921705e+08</td>\n",
       "      <td>1</td>\n",
       "    </tr>\n",
       "  </tbody>\n",
       "</table>\n",
       "</div>"
      ],
      "text/plain": [
       "       MSISDN/Number  Bearer Id  Dur. (ms)    Total Data  cluster\n",
       "3735     33610670203          2    49514.0  1.040557e+09        0\n",
       "64111    33666914415          1    86399.0  7.043859e+08        1\n",
       "53086    33663616195          1   106875.0  2.004201e+08        1\n",
       "12716    33625119623          1   178731.0  6.391717e+08        1\n",
       "47165    33662164045          1    86399.0  3.921705e+08        1"
      ]
     },
     "execution_count": 12,
     "metadata": {},
     "output_type": "execute_result"
    }
   ],
   "source": [
    "import warnings\n",
    "warnings.filterwarnings('ignore')\n",
    "pd.set_option('max_column', None)\n",
    "df_engagement = pd.read_csv('../data/engagement_clusters.csv', na_values=['?', None, 'undefined'])\n",
    "df_engagement.sample(5)"
   ]
  },
  {
   "cell_type": "code",
   "execution_count": 13,
   "metadata": {},
   "outputs": [
    {
     "data": {
      "text/html": [
       "<div>\n",
       "<style scoped>\n",
       "    .dataframe tbody tr th:only-of-type {\n",
       "        vertical-align: middle;\n",
       "    }\n",
       "\n",
       "    .dataframe tbody tr th {\n",
       "        vertical-align: top;\n",
       "    }\n",
       "\n",
       "    .dataframe thead th {\n",
       "        text-align: right;\n",
       "    }\n",
       "</style>\n",
       "<table border=\"1\" class=\"dataframe\">\n",
       "  <thead>\n",
       "    <tr style=\"text-align: right;\">\n",
       "      <th></th>\n",
       "      <th>MSISDN/Number</th>\n",
       "      <th>Total RTT</th>\n",
       "      <th>Total TCP retransmission</th>\n",
       "      <th>Total Throughput</th>\n",
       "      <th>Handset Type</th>\n",
       "      <th>encoded</th>\n",
       "      <th>cluster</th>\n",
       "    </tr>\n",
       "  </thead>\n",
       "  <tbody>\n",
       "    <tr>\n",
       "      <th>16919</th>\n",
       "      <td>33662661548</td>\n",
       "      <td>683.0</td>\n",
       "      <td>9908765.0</td>\n",
       "      <td>2588.0</td>\n",
       "      <td>Huawei B528S-23A</td>\n",
       "      <td>232</td>\n",
       "      <td>1</td>\n",
       "    </tr>\n",
       "    <tr>\n",
       "      <th>10594</th>\n",
       "      <td>33658963649</td>\n",
       "      <td>61.0</td>\n",
       "      <td>14807.0</td>\n",
       "      <td>31158.0</td>\n",
       "      <td>Apple iPhone 5S (A1533)</td>\n",
       "      <td>39</td>\n",
       "      <td>1</td>\n",
       "    </tr>\n",
       "    <tr>\n",
       "      <th>21108</th>\n",
       "      <td>33665547083</td>\n",
       "      <td>90.0</td>\n",
       "      <td>550403.0</td>\n",
       "      <td>66314.0</td>\n",
       "      <td>Huawei B528S-23A</td>\n",
       "      <td>232</td>\n",
       "      <td>1</td>\n",
       "    </tr>\n",
       "    <tr>\n",
       "      <th>32539</th>\n",
       "      <td>33760903810</td>\n",
       "      <td>39.0</td>\n",
       "      <td>1509.0</td>\n",
       "      <td>27695.0</td>\n",
       "      <td>Apple iPhone Xs Max (A2101)</td>\n",
       "      <td>73</td>\n",
       "      <td>1</td>\n",
       "    </tr>\n",
       "    <tr>\n",
       "      <th>419</th>\n",
       "      <td>33605724906</td>\n",
       "      <td>149.0</td>\n",
       "      <td>107924.0</td>\n",
       "      <td>16793.0</td>\n",
       "      <td>Samsung Galaxy S8 (Sm-G950F)</td>\n",
       "      <td>725</td>\n",
       "      <td>0</td>\n",
       "    </tr>\n",
       "  </tbody>\n",
       "</table>\n",
       "</div>"
      ],
      "text/plain": [
       "       MSISDN/Number  Total RTT  Total TCP retransmission  Total Throughput  \\\n",
       "16919    33662661548      683.0                 9908765.0            2588.0   \n",
       "10594    33658963649       61.0                   14807.0           31158.0   \n",
       "21108    33665547083       90.0                  550403.0           66314.0   \n",
       "32539    33760903810       39.0                    1509.0           27695.0   \n",
       "419      33605724906      149.0                  107924.0           16793.0   \n",
       "\n",
       "                       Handset Type  encoded  cluster  \n",
       "16919              Huawei B528S-23A      232        1  \n",
       "10594       Apple iPhone 5S (A1533)       39        1  \n",
       "21108              Huawei B528S-23A      232        1  \n",
       "32539   Apple iPhone Xs Max (A2101)       73        1  \n",
       "419    Samsung Galaxy S8 (Sm-G950F)      725        0  "
      ]
     },
     "execution_count": 13,
     "metadata": {},
     "output_type": "execute_result"
    }
   ],
   "source": [
    "df_experience = pd.read_csv('../data/experience_clusters.csv', na_values=['?', None, 'undefined'])\n",
    "df_experience.sample(5)"
   ]
  },
  {
   "cell_type": "code",
   "execution_count": null,
   "metadata": {},
   "outputs": [],
   "source": []
  },
  {
   "cell_type": "code",
   "execution_count": 14,
   "metadata": {},
   "outputs": [
    {
     "name": "stdout",
     "output_type": "stream",
     "text": [
      "The dataset contains 0.0 % missing values.\n",
      "The dataset contains 0.0 % missing values.\n"
     ]
    }
   ],
   "source": [
    "# how many missing values exist or better still what is the % of missing values in the dataset?\n",
    "def percent_missing(df):\n",
    "\n",
    "    # Calculate total number of cells in dataframe\n",
    "    totalCells = np.product(df.shape)\n",
    "\n",
    "    # Count number of missing values per column\n",
    "    missingCount = df.isnull().sum()\n",
    "\n",
    "    # Calculate total number of missing values\n",
    "    totalMissing = missingCount.sum()\n",
    "\n",
    "    # Calculate percentage of missing values\n",
    "    print(\"The dataset contains\", round(((totalMissing/totalCells) * 100), 2), \"%\", \"missing values.\")\n",
    "\n",
    "percent_missing(df_engagement)\n",
    "percent_missing(df_experience)"
   ]
  },
  {
   "cell_type": "code",
   "execution_count": 22,
   "metadata": {},
   "outputs": [
    {
     "data": {
      "text/plain": [
       "0.18288934426229497"
      ]
     },
     "execution_count": 22,
     "metadata": {},
     "output_type": "execute_result"
    }
   ],
   "source": [
    "less_engaged_centroid = df_engagement[df_engagement['cluster'] == 0].groupby('cluster').mean()\n",
    "(float(less_engaged_centroid['Bearer Id']) - 2)"
   ]
  },
  {
   "cell_type": "code",
   "execution_count": 17,
   "metadata": {},
   "outputs": [
    {
     "data": {
      "text/plain": [
       "0        -1\n",
       "1        -1\n",
       "2        -1\n",
       "3        -1\n",
       "4        -1\n",
       "         ..\n",
       "106466   -1\n",
       "106467    0\n",
       "106468   -1\n",
       "106469   -1\n",
       "106470   -1\n",
       "Name: Bearer Id, Length: 106471, dtype: int64"
      ]
     },
     "execution_count": 17,
     "metadata": {},
     "output_type": "execute_result"
    }
   ],
   "source": [
    "def compute_engagement_score(df,centroid):\n",
    "    x = float(less_engaged_centroid['Bearer Id'])\n",
    "    y = float(less_engaged_centroid['Dur. (ms)'])\n",
    "    z = float(less_engaged_centroid['Total Data'])\n",
    "    df['engagement score'] = (np.df['Bearer Id'] - x)**2 + (np.df['Bearer Id'] - x)**2 + (np.df['Bearer Id'] - x)**2"
   ]
  },
  {
   "cell_type": "code",
   "execution_count": null,
   "metadata": {},
   "outputs": [],
   "source": []
  }
 ],
 "metadata": {
  "kernelspec": {
   "display_name": "Python 3",
   "language": "python",
   "name": "python3"
  },
  "language_info": {
   "codemirror_mode": {
    "name": "ipython",
    "version": 3
   },
   "file_extension": ".py",
   "mimetype": "text/x-python",
   "name": "python",
   "nbconvert_exporter": "python",
   "pygments_lexer": "ipython3",
   "version": "3.7.1"
  }
 },
 "nbformat": 4,
 "nbformat_minor": 2
}
